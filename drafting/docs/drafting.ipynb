{
 "cells": [
  {
   "cell_type": "code",
   "execution_count": 63,
   "metadata": {
    "collapsed": false
   },
   "outputs": [],
   "source": [
    "import requests\n",
    "import pandas as pd\n",
    "import hashlib"
   ]
  },
  {
   "cell_type": "code",
   "execution_count": 71,
   "metadata": {
    "collapsed": false
   },
   "outputs": [],
   "source": [
    "def oipa_recursive_url_getter(url, url_list):\n",
    "    # Build the request\n",
    "    r = requests.get(url)\n",
    "    \n",
    "    # exctact activity URLs and store in the list\n",
    "    for activity in r.json()['results']:\n",
    "        \n",
    "        # TODO: push out to method which appends to a csv file the IATI identifier,\n",
    "        # URL, and has a column for the hash value which is null unless it's already present.\n",
    "        # It should overwrite if there is a collision on either the identifier given the URL or the URL\n",
    "        # given the identifier\n",
    "        url_list.append(activity['url'])\n",
    "    \n",
    "    # TODO: chance this chunk to update the progress bar and notify when complete \n",
    "    # if there are no more pages, then return the list\n",
    "    \n",
    "    sys.stdout.write('%d\\% complete | %d of %d\\r' % (len(url_list),r.json()['count']))\n",
    "    sys.stdout.flush()\n",
    "    \n",
    "    if r.json()['next'] == 'null':\n",
    "        return(url_list)\n",
    "    \n",
    "    # if there are more pages, then recurse into the next page\n",
    "    else:\n",
    "        return(oipa_recursive_url_getter(r.json()['next'], url_list))"
   ]
  },
  {
   "cell_type": "code",
   "execution_count": 72,
   "metadata": {
    "collapsed": true
   },
   "outputs": [],
   "source": [
    "def generate_md5(data):\n",
    "    \"\"\"\n",
    "    :param data: any object to be hashed, in this case for caching. \n",
    "    \"\"\"\n",
    "    data = data.encode('UTF-8')\n",
    "    hash_md5 = hashlib.md5()\n",
    "    hash_md5.update(data)\n",
    "    return hash_md5.hexdigest()"
   ]
  },
  {
   "cell_type": "code",
   "execution_count": null,
   "metadata": {
    "collapsed": false
   },
   "outputs": [],
   "source": [
    "\n",
    "\"\"\"\n",
    "print(generate_md5('hello'))\n",
    "\n",
    "\n",
    "\"\"\"\n",
    "\n",
    "base_url = 'https://www.oipa.nl/api/activities/?format=json'\n",
    "\n",
    "activities_urls = oipa_recursive_url_getter(base_url, [])\n"
   ]
  },
  {
   "cell_type": "code",
   "execution_count": null,
   "metadata": {
    "collapsed": true
   },
   "outputs": [],
   "source": []
  }
 ],
 "metadata": {
  "kernelspec": {
   "display_name": "Python 3",
   "language": "python",
   "name": "python3"
  },
  "language_info": {
   "codemirror_mode": {
    "name": "ipython",
    "version": 3
   },
   "file_extension": ".py",
   "mimetype": "text/x-python",
   "name": "python",
   "nbconvert_exporter": "python",
   "pygments_lexer": "ipython3",
   "version": "3.4.5"
  }
 },
 "nbformat": 4,
 "nbformat_minor": 0
}
